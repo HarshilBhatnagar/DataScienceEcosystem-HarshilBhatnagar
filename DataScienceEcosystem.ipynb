{
 "cells": [
  {
   "cell_type": "markdown",
   "id": "9d5e00f6-61ef-480f-a82d-6dde3dc30f6d",
   "metadata": {},
   "source": [
    "# Data Science Tools and Ecosystem"
   ]
  },
  {
   "cell_type": "markdown",
   "id": "b2f44705-e26e-4ba0-82a7-2961b346184b",
   "metadata": {},
   "source": [
    "In this notebook, Data Science Tools and Ecosystem are summarized."
   ]
  },
  {
   "cell_type": "markdown",
   "id": "0dfe404e-e017-4b60-91b4-15b162c1d3be",
   "metadata": {
    "tags": []
   },
   "source": [
    "Some of the popular languages that Data Scientists use are:\n",
    "1. Python\n",
    "2. R\n",
    "3. SQL\n",
    "4. C++\n",
    "5. Java,etc...."
   ]
  },
  {
   "cell_type": "markdown",
   "id": "12ab034a-e7ec-41f5-b3b6-e413ca1e25a1",
   "metadata": {},
   "source": [
    "Some of the commonly used libraries used by Data Scientists include:\n",
    "\n",
    "1. NumPy\n",
    "2. Pandas\n",
    "3. Matplotlib\n",
    "4. Scikit-learn\n",
    "5. TensorFlow"
   ]
  },
  {
   "cell_type": "markdown",
   "id": "4fef6c35-bec2-4438-83bc-5b3819ad8312",
   "metadata": {},
   "source": [
    "| Data Science Tools |\n",
    "|----|\n",
    "| Jupyter Notebooks |\n",
    "| SAS |\n",
    "| Apache Hadoop |\n"
   ]
  },
  {
   "cell_type": "markdown",
   "id": "5f27dc7f-4533-4013-a7ee-277551e70be9",
   "metadata": {},
   "source": [
    "### Below are a few examples of evaluating arithmetic expressions in Python.\n"
   ]
  },
  {
   "cell_type": "code",
   "execution_count": 2,
   "id": "c193e645-b7ae-432c-8d01-bc53e306a4f0",
   "metadata": {
    "tags": []
   },
   "outputs": [
    {
     "data": {
      "text/plain": [
       "17"
      ]
     },
     "execution_count": 2,
     "metadata": {},
     "output_type": "execute_result"
    }
   ],
   "source": [
    "(3*4)+5"
   ]
  },
  {
   "cell_type": "code",
   "execution_count": 3,
   "id": "88f57b73-916c-437c-864a-4f5fa9b35c81",
   "metadata": {
    "tags": []
   },
   "outputs": [
    {
     "data": {
      "text/plain": [
       "3.3333333333333335"
      ]
     },
     "execution_count": 3,
     "metadata": {},
     "output_type": "execute_result"
    }
   ],
   "source": [
    "200 / 60"
   ]
  },
  {
   "cell_type": "markdown",
   "id": "f30349c0-817d-47e4-b8cd-beb8cafe6f35",
   "metadata": {},
   "source": [
    "**Objectives:**\n",
    "\n",
    "- List popular languages for Data Science\n",
    "- List commonly used libraries used by Data Scientists\n",
    "- Create a table of Data Science tools\n",
    "- Show examples of evaluating arithmetic expressions in Python\n",
    "- Demonstrate how to create markdown cells in Jupyter Notebook\n"
   ]
  },
  {
   "cell_type": "markdown",
   "id": "c07de035-5cc9-4d97-8901-7ec669cb735c",
   "metadata": {},
   "source": [
    "## Author\n",
    "\n",
    "Harshil Bhatnagar\n"
   ]
  }
 ],
 "metadata": {
  "kernelspec": {
   "display_name": "Python",
   "language": "python",
   "name": "conda-env-python-py"
  },
  "language_info": {
   "codemirror_mode": {
    "name": "ipython",
    "version": 3
   },
   "file_extension": ".py",
   "mimetype": "text/x-python",
   "name": "python",
   "nbconvert_exporter": "python",
   "pygments_lexer": "ipython3",
   "version": "3.7.12"
  },
  "toc-autonumbering": false,
  "toc-showcode": true,
  "toc-showmarkdowntxt": true,
  "toc-showtags": false
 },
 "nbformat": 4,
 "nbformat_minor": 5
}
